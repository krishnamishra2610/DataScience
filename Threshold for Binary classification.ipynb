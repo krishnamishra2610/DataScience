{
 "cells": [
  {
   "cell_type": "markdown",
   "metadata": {},
   "source": [
    "## Aim: selecting threshold for binary classification"
   ]
  },
  {
   "cell_type": "code",
   "execution_count": 113,
   "metadata": {},
   "outputs": [],
   "source": [
    "import pandas as pd \n",
    "import numpy as np \n",
    "import matplotlib.pyplot as plt\n",
    "from sklearn.datasets import make_classification\n",
    "from sklearn.metrics import accuracy_score"
   ]
  },
  {
   "cell_type": "code",
   "execution_count": 97,
   "metadata": {},
   "outputs": [],
   "source": [
    "x,y = make_classification(n_samples=4000,weights=[1,1],random_state=50) "
   ]
  },
  {
   "cell_type": "code",
   "execution_count": 98,
   "metadata": {},
   "outputs": [
    {
     "data": {
      "text/plain": [
       "(4000, 20)"
      ]
     },
     "execution_count": 98,
     "metadata": {},
     "output_type": "execute_result"
    }
   ],
   "source": [
    "# 4000 Records and 20 features\n",
    "x.shape"
   ]
  },
  {
   "cell_type": "code",
   "execution_count": 99,
   "metadata": {},
   "outputs": [],
   "source": [
    "from sklearn.model_selection import train_test_split\n",
    "from sklearn.metrics import roc_auc_score\n",
    "x_train,x_test,y_train,y_test = train_test_split(x,y,test_size=0.3)"
   ]
  },
  {
   "cell_type": "markdown",
   "metadata": {},
   "source": [
    "### Random Forest"
   ]
  },
  {
   "cell_type": "code",
   "execution_count": 119,
   "metadata": {},
   "outputs": [
    {
     "name": "stdout",
     "output_type": "stream",
     "text": [
      "ROc AUC for y_train_pred : 1.0\n",
      "ROc AUC for y_test_pred : 0.9859925378732106\n",
      "Accuracy (when the threshold is default i.e 0.5)  :0.9541666666666667\n"
     ]
    }
   ],
   "source": [
    "from sklearn.ensemble import RandomForestClassifier\n",
    "\n",
    "rf_model = RandomForestClassifier()\n",
    "rf_model.fit(x_train,y_train)\n",
    "y_train_pred = rf_model.predict_proba(x_train)\n",
    "print('ROc AUC for y_train_pred : {}'.format(roc_auc_score(y_train,y_train_pred[:,1])))  #y_train_pred[:1] ==> this is the probability of getting 1's\n",
    " \n",
    "y_test_pred = rf_model.predict_proba(x_test)\n",
    "print('ROc AUC for y_test_pred : {}'.format(roc_auc_score(y_test,y_test_pred[:,1])))    #y_test_pred[:1] ==> this is the probability of getting 1's\n",
    "\n",
    "print('Accuracy (when the threshold is default i.e 0.5)  :{}'.format(accuracy_score(y_test,rf_model.predict(x_test))))"
   ]
  },
  {
   "cell_type": "markdown",
   "metadata": {},
   "source": [
    "## Adaboost"
   ]
  },
  {
   "cell_type": "code",
   "execution_count": 120,
   "metadata": {},
   "outputs": [
    {
     "name": "stdout",
     "output_type": "stream",
     "text": [
      "ROc AUC for y_train_pred : 0.9947699369208625\n",
      "ROc AUC for y_test_pred : 0.9859925378732106\n",
      "Accuracy (when the threshold is default i.e 0.5)  :0.9466666666666667\n"
     ]
    }
   ],
   "source": [
    "from sklearn.ensemble import AdaBoostClassifier\n",
    "\n",
    "ab_model = AdaBoostClassifier()\n",
    "ab_model.fit(x_train,y_train) \n",
    "y_train_pred = ab_model.predict_proba(x_train) \n",
    "print('ROc AUC for y_train_pred : {}'.format(roc_auc_score(y_train,y_train_pred[:,1])))  #y_train_pred[:1] ==> this is the probability of getting 1's\n",
    " \n",
    "y_test_pred = rf_model.predict_proba(x_test)\n",
    "print('ROc AUC for y_test_pred : {}'.format(roc_auc_score(y_test,y_test_pred[:,1])))    #y_test_pred[:1] ==> this is the probability of getting 1's\n",
    "\n",
    "print('Accuracy (when the threshold is default i.e 0.5)  :{}'.format(accuracy_score(y_test,ab_model.predict(x_test)))) "
   ]
  },
  {
   "cell_type": "markdown",
   "metadata": {},
   "source": [
    "## KNN"
   ]
  },
  {
   "cell_type": "code",
   "execution_count": 121,
   "metadata": {},
   "outputs": [
    {
     "name": "stdout",
     "output_type": "stream",
     "text": [
      "ROc AUC for y_train_pred : 0.9836756008794242\n",
      "ROc AUC for y_test_pred : 0.9859925378732106\n",
      "Accuracy (when the threshold is default i.e 0.5)  :0.9066666666666666\n"
     ]
    }
   ],
   "source": [
    "from sklearn.neighbors import KNeighborsClassifier\n",
    "\n",
    "knn_model = KNeighborsClassifier()\n",
    "knn_model.fit(x_train,y_train)\n",
    "y_train_pred = knn_model.predict_proba(x_train)\n",
    "print('ROc AUC for y_train_pred : {}'.format(roc_auc_score(y_train,y_train_pred[:,1])))  #y_train_pred[:1] ==> this is the probability of getting 1's\n",
    " \n",
    "y_test_pred = rf_model.predict_proba(x_test)\n",
    "print('ROc AUC for y_test_pred : {}'.format(roc_auc_score(y_test,y_test_pred[:,1])))    #y_test_pred[:1] ==> this is the probability of getting 1's\n",
    "\n",
    "print('Accuracy (when the threshold is default i.e 0.5)  :{}'.format(accuracy_score(y_test,knn_model.predict(x_test)))) "
   ]
  },
  {
   "cell_type": "markdown",
   "metadata": {},
   "source": [
    "## Logistic Regression"
   ]
  },
  {
   "cell_type": "code",
   "execution_count": 122,
   "metadata": {},
   "outputs": [
    {
     "name": "stdout",
     "output_type": "stream",
     "text": [
      "ROc AUC for y_train_pred : 0.979797124268911\n",
      "ROc AUC for y_test_pred : 0.9859925378732106\n",
      "Accuracy (when the threshold is default i.e 0.5)  :0.935\n"
     ]
    }
   ],
   "source": [
    "from sklearn.linear_model import LogisticRegression\n",
    "\n",
    "lr_model = LogisticRegression()\n",
    "lr_model.fit(x_train,y_train)\n",
    "y_train_pred = lr_model.predict_proba(x_train)\n",
    "print('ROc AUC for y_train_pred : {}'.format(roc_auc_score(y_train,y_train_pred[:,1])))  #y_train_pred[:1] ==> this is the probability of getting 1's\n",
    " \n",
    "y_test_pred = rf_model.predict_proba(x_test)\n",
    "print('ROc AUC for y_test_pred : {}'.format(roc_auc_score(y_test,y_test_pred[:,1])))    #y_test_pred[:1] ==> this is the probability of getting 1's\n",
    "\n",
    "print('Accuracy (when the threshold is default i.e 0.5)  :{}'.format(accuracy_score(y_test,lr_model.predict(x_test)))) "
   ]
  },
  {
   "cell_type": "code",
   "execution_count": 104,
   "metadata": {},
   "outputs": [
    {
     "data": {
      "text/html": [
       "<div>\n",
       "<style scoped>\n",
       "    .dataframe tbody tr th:only-of-type {\n",
       "        vertical-align: middle;\n",
       "    }\n",
       "\n",
       "    .dataframe tbody tr th {\n",
       "        vertical-align: top;\n",
       "    }\n",
       "\n",
       "    .dataframe thead th {\n",
       "        text-align: right;\n",
       "    }\n",
       "</style>\n",
       "<table border=\"1\" class=\"dataframe\">\n",
       "  <thead>\n",
       "    <tr style=\"text-align: right;\">\n",
       "      <th></th>\n",
       "      <th>0</th>\n",
       "      <th>1</th>\n",
       "      <th>2</th>\n",
       "      <th>3</th>\n",
       "    </tr>\n",
       "  </thead>\n",
       "  <tbody>\n",
       "    <tr>\n",
       "      <th>0</th>\n",
       "      <td>0.985523</td>\n",
       "      <td>1.0</td>\n",
       "      <td>0.530741</td>\n",
       "      <td>1.00</td>\n",
       "    </tr>\n",
       "    <tr>\n",
       "      <th>1</th>\n",
       "      <td>0.868646</td>\n",
       "      <td>0.8</td>\n",
       "      <td>0.523189</td>\n",
       "      <td>0.95</td>\n",
       "    </tr>\n",
       "    <tr>\n",
       "      <th>2</th>\n",
       "      <td>0.703473</td>\n",
       "      <td>0.6</td>\n",
       "      <td>0.514142</td>\n",
       "      <td>0.93</td>\n",
       "    </tr>\n",
       "    <tr>\n",
       "      <th>3</th>\n",
       "      <td>0.867040</td>\n",
       "      <td>1.0</td>\n",
       "      <td>0.502910</td>\n",
       "      <td>0.72</td>\n",
       "    </tr>\n",
       "    <tr>\n",
       "      <th>4</th>\n",
       "      <td>0.836601</td>\n",
       "      <td>0.4</td>\n",
       "      <td>0.516093</td>\n",
       "      <td>0.94</td>\n",
       "    </tr>\n",
       "    <tr>\n",
       "      <th>...</th>\n",
       "      <td>...</td>\n",
       "      <td>...</td>\n",
       "      <td>...</td>\n",
       "      <td>...</td>\n",
       "    </tr>\n",
       "    <tr>\n",
       "      <th>1195</th>\n",
       "      <td>0.994208</td>\n",
       "      <td>0.8</td>\n",
       "      <td>0.562660</td>\n",
       "      <td>0.98</td>\n",
       "    </tr>\n",
       "    <tr>\n",
       "      <th>1196</th>\n",
       "      <td>0.015433</td>\n",
       "      <td>0.4</td>\n",
       "      <td>0.485764</td>\n",
       "      <td>0.12</td>\n",
       "    </tr>\n",
       "    <tr>\n",
       "      <th>1197</th>\n",
       "      <td>0.999873</td>\n",
       "      <td>1.0</td>\n",
       "      <td>0.683534</td>\n",
       "      <td>1.00</td>\n",
       "    </tr>\n",
       "    <tr>\n",
       "      <th>1198</th>\n",
       "      <td>0.964842</td>\n",
       "      <td>1.0</td>\n",
       "      <td>0.531247</td>\n",
       "      <td>1.00</td>\n",
       "    </tr>\n",
       "    <tr>\n",
       "      <th>1199</th>\n",
       "      <td>0.970922</td>\n",
       "      <td>1.0</td>\n",
       "      <td>0.520684</td>\n",
       "      <td>0.99</td>\n",
       "    </tr>\n",
       "  </tbody>\n",
       "</table>\n",
       "<p>1200 rows × 4 columns</p>\n",
       "</div>"
      ],
      "text/plain": [
       "             0    1         2     3\n",
       "0     0.985523  1.0  0.530741  1.00\n",
       "1     0.868646  0.8  0.523189  0.95\n",
       "2     0.703473  0.6  0.514142  0.93\n",
       "3     0.867040  1.0  0.502910  0.72\n",
       "4     0.836601  0.4  0.516093  0.94\n",
       "...        ...  ...       ...   ...\n",
       "1195  0.994208  0.8  0.562660  0.98\n",
       "1196  0.015433  0.4  0.485764  0.12\n",
       "1197  0.999873  1.0  0.683534  1.00\n",
       "1198  0.964842  1.0  0.531247  1.00\n",
       "1199  0.970922  1.0  0.520684  0.99\n",
       "\n",
       "[1200 rows x 4 columns]"
      ]
     },
     "execution_count": 104,
     "metadata": {},
     "output_type": "execute_result"
    }
   ],
   "source": [
    "\n",
    "pred=[];\n",
    "for model in [lr_model,knn_model,ab_model,rf_model]:\n",
    "    p = model.predict_proba(x_test)[:,1]\n",
    "    pred.append(pd.Series(p))\n",
    "pred = pd.concat(pred,axis=1)\n",
    "pred"
   ]
  },
  {
   "cell_type": "code",
   "execution_count": 105,
   "metadata": {},
   "outputs": [
    {
     "data": {
      "text/plain": [
       "0       0.879066\n",
       "1       0.785459\n",
       "2       0.686904\n",
       "3       0.772487\n",
       "4       0.673173\n",
       "          ...   \n",
       "1195    0.834217\n",
       "1196    0.255299\n",
       "1197    0.920852\n",
       "1198    0.874022\n",
       "1199    0.870401\n",
       "Length: 1200, dtype: float64"
      ]
     },
     "execution_count": 105,
     "metadata": {},
     "output_type": "execute_result"
    }
   ],
   "source": [
    "## final prediction\n",
    "final_prediction = pred.mean(axis=1)\n",
    "## the values are the probability of getting 1's\n",
    "final_prediction"
   ]
  },
  {
   "cell_type": "code",
   "execution_count": 106,
   "metadata": {},
   "outputs": [
    {
     "data": {
      "text/plain": [
       "0.9799833866276243"
      ]
     },
     "execution_count": 106,
     "metadata": {},
     "output_type": "execute_result"
    }
   ],
   "source": [
    "roc_auc_score(y_test,final_prediction)"
   ]
  },
  {
   "cell_type": "code",
   "execution_count": 107,
   "metadata": {},
   "outputs": [],
   "source": [
    "from sklearn.metrics import roc_curve\n",
    "fpr,tpr,threshold = roc_curve(y_test,final_prediction)"
   ]
  },
  {
   "cell_type": "code",
   "execution_count": 108,
   "metadata": {},
   "outputs": [
    {
     "data": {
      "text/plain": [
       "array([1.92420316, 0.92420316, 0.88741003, 0.88740261, 0.88117969,\n",
       "       0.88103503, 0.86687076, 0.86666785, 0.83079562, 0.83029137,\n",
       "       0.81433971, 0.81319953, 0.78290946, 0.78272685, 0.78224334,\n",
       "       0.78117324, 0.77591936, 0.77504498, 0.77272094, 0.77248739,\n",
       "       0.65860593, 0.65591079, 0.633138  , 0.62436473, 0.60450801,\n",
       "       0.60248453, 0.58937022, 0.58320043, 0.57304392, 0.56411826,\n",
       "       0.55887324, 0.53237355, 0.53147436, 0.52735914, 0.52070428,\n",
       "       0.51587223, 0.51349043, 0.51222678, 0.50906699, 0.50460331,\n",
       "       0.50226396, 0.5012792 , 0.49894582, 0.4930814 , 0.49042768,\n",
       "       0.48754382, 0.48677073, 0.48088175, 0.45581421, 0.45545156,\n",
       "       0.45309671, 0.44964645, 0.44504651, 0.42342944, 0.41986178,\n",
       "       0.40697501, 0.4022466 , 0.40101136, 0.39946191, 0.38871144,\n",
       "       0.38702867, 0.37826913, 0.36468649, 0.36207051, 0.36078017,\n",
       "       0.34966733, 0.34959264, 0.34510126, 0.3396566 , 0.33917871,\n",
       "       0.33710808, 0.32874567, 0.3286048 , 0.30650398, 0.30554451,\n",
       "       0.30264405, 0.30062782, 0.29805989, 0.29805827, 0.27400488,\n",
       "       0.27377057, 0.26393232, 0.26349589, 0.24975321, 0.24947707,\n",
       "       0.2381041 , 0.23795198, 0.22842269, 0.22824422, 0.18196254,\n",
       "       0.18192218, 0.17625969, 0.17624553, 0.14360869, 0.14348275,\n",
       "       0.14159234, 0.14157828, 0.13050375, 0.13043267, 0.11776977,\n",
       "       0.11756777, 0.11074416, 0.11010925, 0.10172437, 0.10147233,\n",
       "       0.07863367])"
      ]
     },
     "execution_count": 108,
     "metadata": {},
     "output_type": "execute_result"
    }
   ],
   "source": [
    "threshold"
   ]
  },
  {
   "cell_type": "code",
   "execution_count": 109,
   "metadata": {},
   "outputs": [],
   "source": [
    "from sklearn.metrics import accuracy_score\n",
    "accuracy=[];\n",
    "for thres in threshold:\n",
    "    y_pred = np.where(final_prediction>thres ,1,0) \n",
    "    accuracy.append(accuracy_score(y_test,y_pred,normalize=True))"
   ]
  },
  {
   "cell_type": "code",
   "execution_count": 124,
   "metadata": {},
   "outputs": [
    {
     "data": {
      "text/html": [
       "<div>\n",
       "<style scoped>\n",
       "    .dataframe tbody tr th:only-of-type {\n",
       "        vertical-align: middle;\n",
       "    }\n",
       "\n",
       "    .dataframe tbody tr th {\n",
       "        vertical-align: top;\n",
       "    }\n",
       "\n",
       "    .dataframe thead th {\n",
       "        text-align: right;\n",
       "    }\n",
       "</style>\n",
       "<table border=\"1\" class=\"dataframe\">\n",
       "  <thead>\n",
       "    <tr style=\"text-align: right;\">\n",
       "      <th></th>\n",
       "      <th>Threshold</th>\n",
       "      <th>Accuracy</th>\n",
       "    </tr>\n",
       "  </thead>\n",
       "  <tbody>\n",
       "    <tr>\n",
       "      <th>29</th>\n",
       "      <td>0.564118</td>\n",
       "      <td>0.945833</td>\n",
       "    </tr>\n",
       "    <tr>\n",
       "      <th>30</th>\n",
       "      <td>0.558873</td>\n",
       "      <td>0.945833</td>\n",
       "    </tr>\n",
       "    <tr>\n",
       "      <th>34</th>\n",
       "      <td>0.520704</td>\n",
       "      <td>0.945833</td>\n",
       "    </tr>\n",
       "    <tr>\n",
       "      <th>35</th>\n",
       "      <td>0.515872</td>\n",
       "      <td>0.945833</td>\n",
       "    </tr>\n",
       "    <tr>\n",
       "      <th>49</th>\n",
       "      <td>0.455452</td>\n",
       "      <td>0.945833</td>\n",
       "    </tr>\n",
       "    <tr>\n",
       "      <th>50</th>\n",
       "      <td>0.453097</td>\n",
       "      <td>0.945833</td>\n",
       "    </tr>\n",
       "  </tbody>\n",
       "</table>\n",
       "</div>"
      ],
      "text/plain": [
       "    Threshold  Accuracy\n",
       "29   0.564118  0.945833\n",
       "30   0.558873  0.945833\n",
       "34   0.520704  0.945833\n",
       "35   0.515872  0.945833\n",
       "49   0.455452  0.945833\n",
       "50   0.453097  0.945833"
      ]
     },
     "execution_count": 124,
     "metadata": {},
     "output_type": "execute_result"
    }
   ],
   "source": [
    "T = pd.concat([pd.Series(threshold),pd.Series(accuracy)],axis=1) \n",
    "T.columns=['Threshold','Accuracy']\n",
    "T[T.Accuracy==T.Accuracy.max()]"
   ]
  },
  {
   "cell_type": "code",
   "execution_count": null,
   "metadata": {},
   "outputs": [],
   "source": []
  },
  {
   "cell_type": "code",
   "execution_count": null,
   "metadata": {},
   "outputs": [],
   "source": []
  }
 ],
 "metadata": {
  "kernelspec": {
   "display_name": "Python 3",
   "language": "python",
   "name": "python3"
  },
  "language_info": {
   "codemirror_mode": {
    "name": "ipython",
    "version": 3
   },
   "file_extension": ".py",
   "mimetype": "text/x-python",
   "name": "python",
   "nbconvert_exporter": "python",
   "pygments_lexer": "ipython3",
   "version": "3.8.5"
  },
  "toc": {
   "base_numbering": 1,
   "nav_menu": {},
   "number_sections": false,
   "sideBar": true,
   "skip_h1_title": false,
   "title_cell": "Table of Contents",
   "title_sidebar": "Contents",
   "toc_cell": false,
   "toc_position": {},
   "toc_section_display": true,
   "toc_window_display": false
  }
 },
 "nbformat": 4,
 "nbformat_minor": 4
}
